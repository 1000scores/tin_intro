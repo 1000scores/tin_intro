{
 "metadata": {
  "language_info": {
   "codemirror_mode": {
    "name": "ipython",
    "version": 3
   },
   "file_extension": ".py",
   "mimetype": "text/x-python",
   "name": "python",
   "nbconvert_exporter": "python",
   "pygments_lexer": "ipython3",
   "version": "3.9.1"
  },
  "orig_nbformat": 2,
  "kernelspec": {
   "name": "python391jvsc74a57bd0dfa36827463457e711ee0f6313e71839a6e74b4e10eee05d0ef1d4d260e6136b",
   "display_name": "Python 3.9.1 64-bit"
  },
  "metadata": {
   "interpreter": {
    "hash": "dfa36827463457e711ee0f6313e71839a6e74b4e10eee05d0ef1d4d260e6136b"
   }
  }
 },
 "nbformat": 4,
 "nbformat_minor": 2,
 "cells": [
  {
   "cell_type": "code",
   "execution_count": 1,
   "metadata": {},
   "outputs": [],
   "source": [
    "from thop import profile\n",
    "import torch\n",
    "import os\n",
    "import ViTResNet_not_remastered\n",
    "import ViTResNet18_not_remastered\n",
    "import ViTResNet18_remastered"
   ]
  },
  {
   "source": [
    "** Cifar10 **"
   ],
   "cell_type": "markdown",
   "metadata": {}
  },
  {
   "cell_type": "code",
   "execution_count": 2,
   "metadata": {},
   "outputs": [],
   "source": [
    "device = 'cuda'"
   ]
  },
  {
   "cell_type": "code",
   "execution_count": 3,
   "metadata": {},
   "outputs": [
    {
     "output_type": "stream",
     "name": "stdout",
     "text": [
      "[INFO] Register count_convNd() for <class 'torch.nn.modules.conv.Conv2d'>.\n",
      "[INFO] Register count_bn() for <class 'torch.nn.modules.batchnorm.BatchNorm2d'>.\n",
      "\u001b[91m[WARN] Cannot find rule for <class 'torch.nn.modules.container.Sequential'>. Treat it as zero Macs and zero Params.\u001b[00m\n",
      "\u001b[91m[WARN] Cannot find rule for <class 'ViTResNet_not_remastered.BasicBlock'>. Treat it as zero Macs and zero Params.\u001b[00m\n",
      "\u001b[91m[WARN] Cannot find rule for <class 'ViTResNet_not_remastered.LambdaLayer'>. Treat it as zero Macs and zero Params.\u001b[00m\n",
      "[INFO] Register zero_ops() for <class 'torch.nn.modules.dropout.Dropout'>.\n",
      "\u001b[91m[WARN] Cannot find rule for <class 'torch.nn.modules.normalization.LayerNorm'>. Treat it as zero Macs and zero Params.\u001b[00m\n",
      "[INFO] Register count_linear() for <class 'torch.nn.modules.linear.Linear'>.\n",
      "\u001b[91m[WARN] Cannot find rule for <class 'ViTResNet_not_remastered.Attention'>. Treat it as zero Macs and zero Params.\u001b[00m\n",
      "\u001b[91m[WARN] Cannot find rule for <class 'ViTResNet_not_remastered.LayerNormalize'>. Treat it as zero Macs and zero Params.\u001b[00m\n",
      "\u001b[91m[WARN] Cannot find rule for <class 'ViTResNet_not_remastered.Residual'>. Treat it as zero Macs and zero Params.\u001b[00m\n",
      "\u001b[91m[WARN] Cannot find rule for <class 'torch.nn.modules.activation.GELU'>. Treat it as zero Macs and zero Params.\u001b[00m\n",
      "\u001b[91m[WARN] Cannot find rule for <class 'ViTResNet_not_remastered.MLP_Block'>. Treat it as zero Macs and zero Params.\u001b[00m\n",
      "\u001b[91m[WARN] Cannot find rule for <class 'torch.nn.modules.container.ModuleList'>. Treat it as zero Macs and zero Params.\u001b[00m\n",
      "\u001b[91m[WARN] Cannot find rule for <class 'ViTResNet_not_remastered.Transformer'>. Treat it as zero Macs and zero Params.\u001b[00m\n",
      "\u001b[91m[WARN] Cannot find rule for <class 'torch.nn.modules.linear.Identity'>. Treat it as zero Macs and zero Params.\u001b[00m\n",
      "\u001b[91m[WARN] Cannot find rule for <class 'ViTResNet_not_remastered.ViTResNet'>. Treat it as zero Macs and zero Params.\u001b[00m\n",
      "ViTResNet\n",
      "flops = 9601.28 FLOPs(M)\n",
      "params = 1.06217 Params(M)\n"
     ]
    }
   ],
   "source": [
    "model_name = 'ViTResNet'\n",
    "BATCH_SIZE_TRAIN = 200\n",
    "model = ViTResNet_not_remastered.ViTResNet(ViTResNet_not_remastered.BasicBlock, [3, 3, 3], BATCH_SIZE_TRAIN).to(device)\n",
    "data = torch.randn(BATCH_SIZE_TRAIN, 3, 32, 32)\n",
    "flops, params = profile(model, inputs=(data.to(device), ))\n",
    "print(model_name)\n",
    "print(f'flops = {flops / 1e6} FLOPs(M)')\n",
    "print(f'params = {params / 1e6} Params(M)')"
   ]
  },
  {
   "cell_type": "code",
   "execution_count": 4,
   "metadata": {},
   "outputs": [
    {
     "output_type": "stream",
     "name": "stdout",
     "text": [
      "[INFO] Register count_convNd() for <class 'torch.nn.modules.conv.Conv2d'>.\n",
      "[INFO] Register count_bn() for <class 'torch.nn.modules.batchnorm.BatchNorm2d'>.\n",
      "[INFO] Register zero_ops() for <class 'torch.nn.modules.activation.ReLU'>.\n",
      "[INFO] Register zero_ops() for <class 'torch.nn.modules.pooling.MaxPool2d'>.\n",
      "\u001b[91m[WARN] Cannot find rule for <class 'torchvision.models.resnet.BasicBlock'>. Treat it as zero Macs and zero Params.\u001b[00m\n",
      "\u001b[91m[WARN] Cannot find rule for <class 'torch.nn.modules.container.Sequential'>. Treat it as zero Macs and zero Params.\u001b[00m\n",
      "[INFO] Register count_adap_avgpool() for <class 'torch.nn.modules.pooling.AdaptiveAvgPool2d'>.\n",
      "[INFO] Register count_linear() for <class 'torch.nn.modules.linear.Linear'>.\n",
      "\u001b[91m[WARN] Cannot find rule for <class 'torchvision.models.resnet.ResNet'>. Treat it as zero Macs and zero Params.\u001b[00m\n",
      "ResNet18\n",
      "flops = 7525.1712 FLOPs(M)\n",
      "params = 11.689512 Params(M)\n",
      "Using cache found in C:\\Users\\dmele/.cache\\torch\\hub\\pytorch_vision_v0.9.0\n"
     ]
    }
   ],
   "source": [
    "model_name = 'ResNet18'\n",
    "model = torch.hub.load('pytorch/vision:v0.9.0', 'resnet18', pretrained=False).to(device)\n",
    "data = torch.randn(BATCH_SIZE_TRAIN, 3, 32, 32)\n",
    "flops, params = profile(model, inputs=(data.to(device), ))\n",
    "print(model_name)\n",
    "print(f'flops = {flops / 1e6} FLOPs(M)')\n",
    "print(f'params = {params / 1e6} Params(M)')"
   ]
  },
  {
   "cell_type": "code",
   "execution_count": 5,
   "metadata": {},
   "outputs": [
    {
     "output_type": "stream",
     "name": "stderr",
     "text": [
      "Using cache found in C:\\Users\\dmele/.cache\\torch\\hub\\pytorch_vision_v0.9.0\n",
      "[INFO] Register count_convNd() for <class 'torch.nn.modules.conv.Conv2d'>.\n",
      "[INFO] Register count_bn() for <class 'torch.nn.modules.batchnorm.BatchNorm2d'>.\n",
      "[INFO] Register zero_ops() for <class 'torch.nn.modules.activation.ReLU'>.\n",
      "[INFO] Register zero_ops() for <class 'torch.nn.modules.pooling.MaxPool2d'>.\n",
      "\u001b[91m[WARN] Cannot find rule for <class 'torchvision.models.resnet.BasicBlock'>. Treat it as zero Macs and zero Params.\u001b[00m\n",
      "\u001b[91m[WARN] Cannot find rule for <class 'torch.nn.modules.container.Sequential'>. Treat it as zero Macs and zero Params.\u001b[00m\n",
      "[INFO] Register count_adap_avgpool() for <class 'torch.nn.modules.pooling.AdaptiveAvgPool2d'>.\n",
      "[INFO] Register count_linear() for <class 'torch.nn.modules.linear.Linear'>.\n",
      "\u001b[91m[WARN] Cannot find rule for <class 'torchvision.models.resnet.ResNet'>. Treat it as zero Macs and zero Params.\u001b[00m\n",
      "ResNet34\n",
      "flops = 15085.1584 FLOPs(M)\n",
      "params = 21.797672 Params(M)\n"
     ]
    }
   ],
   "source": [
    "model_name = 'ResNet34'\n",
    "model = torch.hub.load('pytorch/vision:v0.9.0', 'resnet34', pretrained=False).to(device)\n",
    "data = torch.randn(BATCH_SIZE_TRAIN, 3, 32, 32)\n",
    "flops, params = profile(model, inputs=(data.to(device), ))\n",
    "print(model_name)\n",
    "print(f'flops = {flops / 1e6} FLOPs(M)')\n",
    "print(f'params = {params / 1e6} Params(M)')"
   ]
  },
  {
   "cell_type": "code",
   "execution_count": 6,
   "metadata": {},
   "outputs": [
    {
     "output_type": "stream",
     "name": "stderr",
     "text": [
      "Using cache found in C:\\Users\\dmele/.cache\\torch\\hub\\pytorch_vision_v0.9.0\n",
      "[INFO] Register count_convNd() for <class 'torch.nn.modules.conv.Conv2d'>.\n",
      "[INFO] Register count_bn() for <class 'torch.nn.modules.batchnorm.BatchNorm2d'>.\n",
      "[INFO] Register zero_ops() for <class 'torch.nn.modules.activation.ReLU'>.\n",
      "[INFO] Register zero_ops() for <class 'torch.nn.modules.pooling.MaxPool2d'>.\n",
      "\u001b[91m[WARN] Cannot find rule for <class 'torch.nn.modules.container.Sequential'>. Treat it as zero Macs and zero Params.\u001b[00m\n",
      "\u001b[91m[WARN] Cannot find rule for <class 'torchvision.models.resnet.Bottleneck'>. Treat it as zero Macs and zero Params.\u001b[00m\n",
      "[INFO] Register count_adap_avgpool() for <class 'torch.nn.modules.pooling.AdaptiveAvgPool2d'>.\n",
      "[INFO] Register count_linear() for <class 'torch.nn.modules.linear.Linear'>.\n",
      "\u001b[91m[WARN] Cannot find rule for <class 'torchvision.models.resnet.ResNet'>. Treat it as zero Macs and zero Params.\u001b[00m\n",
      "ResNet50\n",
      "flops = 17183.3344 FLOPs(M)\n",
      "params = 25.557032 Params(M)\n"
     ]
    }
   ],
   "source": [
    "model_name = 'ResNet50'\n",
    "model = torch.hub.load('pytorch/vision:v0.9.0', 'resnet50', pretrained=False).to(device)\n",
    "data = torch.randn(BATCH_SIZE_TRAIN, 3, 32, 32)\n",
    "flops, params = profile(model, inputs=(data.to(device), ))\n",
    "print(model_name)\n",
    "print(f'flops = {flops / 1e6} FLOPs(M)')\n",
    "print(f'params = {params / 1e6} Params(M)')"
   ]
  },
  {
   "cell_type": "code",
   "execution_count": 7,
   "metadata": {},
   "outputs": [
    {
     "output_type": "stream",
     "name": "stdout",
     "text": [
      "[INFO] Register count_convNd() for <class 'torch.nn.modules.conv.Conv2d'>.\n[INFO] Register count_bn() for <class 'torch.nn.modules.batchnorm.BatchNorm2d'>.\n[INFO] Register zero_ops() for <class 'torch.nn.modules.activation.ReLU'>.\n[INFO] Register zero_ops() for <class 'torch.nn.modules.pooling.MaxPool2d'>.\n\u001b[91m[WARN] Cannot find rule for <class 'ViTResNet18_remastered.BasicBlock'>. Treat it as zero Macs and zero Params.\u001b[00m\n\u001b[91m[WARN] Cannot find rule for <class 'torch.nn.modules.container.Sequential'>. Treat it as zero Macs and zero Params.\u001b[00m\n\u001b[91m[WARN] Cannot find rule for <class 'Tokenizers.FilterBasedTokenizer'>. Treat it as zero Macs and zero Params.\u001b[00m\n\u001b[91m[WARN] Cannot find rule for <class 'Projector.Projector'>. Treat it as zero Macs and zero Params.\u001b[00m\n[INFO] Register zero_ops() for <class 'torch.nn.modules.dropout.Dropout'>.\n\u001b[91m[WARN] Cannot find rule for <class 'torch.nn.modules.normalization.LayerNorm'>. Treat it as zero Macs and zero Params.\u001b[00m\n[INFO] Register count_linear() for <class 'torch.nn.modules.linear.Linear'>.\n\u001b[91m[WARN] Cannot find rule for <class 'VisualTransformer.Attention'>. Treat it as zero Macs and zero Params.\u001b[00m\n\u001b[91m[WARN] Cannot find rule for <class 'VisualTransformer.LayerNormalize'>. Treat it as zero Macs and zero Params.\u001b[00m\n\u001b[91m[WARN] Cannot find rule for <class 'VisualTransformer.Residual'>. Treat it as zero Macs and zero Params.\u001b[00m\n\u001b[91m[WARN] Cannot find rule for <class 'torch.nn.modules.activation.GELU'>. Treat it as zero Macs and zero Params.\u001b[00m\n\u001b[91m[WARN] Cannot find rule for <class 'VisualTransformer.MLP_Block'>. Treat it as zero Macs and zero Params.\u001b[00m\n\u001b[91m[WARN] Cannot find rule for <class 'torch.nn.modules.container.ModuleList'>. Treat it as zero Macs and zero Params.\u001b[00m\n\u001b[91m[WARN] Cannot find rule for <class 'VisualTransformer.Transformer'>. Treat it as zero Macs and zero Params.\u001b[00m\n\u001b[91m[WARN] Cannot find rule for <class 'torch.nn.modules.linear.Identity'>. Treat it as zero Macs and zero Params.\u001b[00m\n\u001b[91m[WARN] Cannot find rule for <class 'VisualTransformer.VisualTranformer'>. Treat it as zero Macs and zero Params.\u001b[00m\n[INFO] Register count_adap_avgpool() for <class 'torch.nn.modules.pooling.AdaptiveAvgPool2d'>.\n\u001b[91m[WARN] Cannot find rule for <class 'ViTResNet18_remastered.ViTResNet18'>. Treat it as zero Macs and zero Params.\u001b[00m\nViTResNet18_remastered\nflops = 5700.4544 FLOPs(M)\nparams = 2.792456 Params(M)\n"
     ]
    }
   ],
   "source": [
    "model_name = 'ViTResNet18_remastered'\n",
    "model = ViTResNet18_remastered.ViTResNet18(ViTResNet18_remastered.BasicBlock, [2, 2, 2], BATCH_SIZE_TRAIN, num_classes=200, num_tokens=16).to(device)\n",
    "data = torch.randn(BATCH_SIZE_TRAIN, 3, 32, 32)\n",
    "flops, params = profile(model, inputs=(data.to(device), ))\n",
    "print(model_name)\n",
    "print(f'flops = {flops / 1e6} FLOPs(M)')\n",
    "print(f'params = {params / 1e6} Params(M)')"
   ]
  }
 ]
}